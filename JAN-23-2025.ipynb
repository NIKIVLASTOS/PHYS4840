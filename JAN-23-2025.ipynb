{
 "cells": [
  {
   "cell_type": "code",
   "execution_count": null,
   "id": "09ba85f4-df64-4d9d-aed4-e04dc26c4ad9",
   "metadata": {},
   "outputs": [],
   "source": [
    "import numpy as np\n",
    "cookies_price =[ 2.65,3.20,3.45,3.70]\n",
    "cookies_name = ['sugar','chocolate','snickerdoodle','Smores']\n",
    "x = int(input(\"How much money do you have:\"))\n",
    "\n",
    "values = []\n",
    "for i in cookies_price:\n",
    "\n",
    "    if x // i != 0:\n",
    "        \n",
    "        change = x - (i*(x // i))\n",
    "        values.append(change)\n",
    "    else:\n",
    "        values.append(x//i)\n",
    "\n",
    "z = np.argmin(values)\n",
    "#print(z)\n",
    "print(f\"If you buy the {cookies_name[0]} cookie, you will get {round(values[0], 2)} of change\")\n",
    "print(f\"If you buy the {cookies_name[1]} cookie, you will get {round(values[1], 2)} of change\")\n",
    "print(f\"If you buy the {cookies_name[2]} cookie, you will get {round(values[2], 2)} of change\")\n",
    "print(f\"If you buy the {cookies_name[3]} cookie, you will get {round(values[3], 2)} of change\")\n",
    "\n",
    "print(f\"You should buy the {cookies_name[z]}, you will get only {round(values[np.argmin(values)],3)} of change\")"
   ]
  },
  {
   "cell_type": "code",
   "execution_count": null,
   "id": "69593210-d1fd-439d-8e4a-c59ec0a909a4",
   "metadata": {},
   "outputs": [],
   "source": []
  },
  {
   "cell_type": "code",
   "execution_count": null,
   "id": "ed2dbfb6-2d32-4f62-a541-959423e0271e",
   "metadata": {},
   "outputs": [],
   "source": []
  },
  {
   "cell_type": "code",
   "execution_count": null,
   "id": "0ca608b3-2817-4e34-9ae4-2cb9961eee2d",
   "metadata": {},
   "outputs": [],
   "source": []
  }
 ],
 "metadata": {
  "kernelspec": {
   "display_name": "Python 3 (ipykernel)",
   "language": "python",
   "name": "python3"
  },
  "language_info": {
   "codemirror_mode": {
    "name": "ipython",
    "version": 3
   },
   "file_extension": ".py",
   "mimetype": "text/x-python",
   "name": "python",
   "nbconvert_exporter": "python",
   "pygments_lexer": "ipython3",
   "version": "3.9.6"
  }
 },
 "nbformat": 4,
 "nbformat_minor": 5
}
